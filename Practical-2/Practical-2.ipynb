{
 "cells": [
  {
   "cell_type": "markdown",
   "metadata": {},
   "source": [
    "### Dictonaries\n",
    "\n",
    "This Markdown contains the following opertions :\n",
    "\n",
    "    a. Write a Python script to check whether a given key already exists in a dictionary.\n",
    "    b. Write a Python script to merge two Python dictionaries.\n",
    "    c. Write a Python program to sum all the items in a dictionary.\n",
    "    d. Write a Python script to add a key to a dictionary.\n",
    "    e. Write a Python script to concatenate following dictionaries to create a new one."
   ]
  },
  {
   "cell_type": "code",
   "execution_count": null,
   "metadata": {},
   "outputs": [],
   "source": [
    "# a. Write a Python script to check whether a given key already exists in a dictionary.\n",
    "data={1:'Darshan',2:'Meghal',3:'Tarsh'}\n",
    "print(data)\n",
    "\n",
    "#accepting key to check its existence in data dictionary \n",
    "key=int(input(\"\\tEnter a key to check its existence :\"))\n",
    "\n",
    "#if the key is in the given data dictonary then it exists otherwise it doesn't\n",
    "if key in data:\n",
    "    print(key,\" exists \")\n",
    "else:\n",
    "    print(key,\" doesn't exist \")"
   ]
  },
  {
   "cell_type": "code",
   "execution_count": null,
   "metadata": {},
   "outputs": [],
   "source": [
    "#b.Write a Python script to merge two dictonaries.\n",
    "web={'HTML':1,\"CSS\":2,\"JAVA_SCRIPT\":3}\n",
    "android={'JAVA':1,'KOTLIN':2,'XML':3}\n",
    "\n",
    "print(\"web =\",web)\n",
    "print(\"android =\",android)\n",
    "#There are at mostly three ways of merging dictonaries in python\n",
    "\n",
    "# 1st way\n",
    "# android.update(web)\n",
    "\n",
    "#2nd Way\n",
    "# merged_dic=android | web\n",
    "\n",
    "#3d Wa\n",
    "merged_dic={**web,**android}\n",
    "print(\"merged dictionary =\",merged_dic)"
   ]
  },
  {
   "cell_type": "code",
   "execution_count": null,
   "metadata": {},
   "outputs": [],
   "source": [
    "#c.Write a python programme to sum all items in a dictonary\n",
    "\n",
    "#declaring a dict containg numbers as items'\n",
    "num={'a':10,'b':20,'c':30,'d':40,'e':50}\n",
    "\n",
    "#way 1\n",
    "values=num.values() #storing the items of num (dic) using values function\n",
    "total=sum(values)   #calculating the sum of items of num using sum function\n",
    "print(total)\n",
    "\n",
    "#way 2\n",
    "sum=0\n",
    "#iterating through each item of dictionary and calculating sum of it\n",
    "for i in num:\n",
    "        sum+=num[i]\n",
    "print(sum)\n",
    "        "
   ]
  },
  {
   "cell_type": "code",
   "execution_count": 2,
   "metadata": {},
   "outputs": [
    {
     "name": "stdout",
     "output_type": "stream",
     "text": [
      "{1: 'JAVA', 2: 'C++', 3: 'KOTLIN', 4: 'Python'}\n"
     ]
    }
   ],
   "source": [
    "#d.Write a python script to add a key to dictonary\n",
    "language={1:'JAVA',2:'C++',3:'KOTLIN'}\n",
    "print(language)#printing the current status  of dict\n",
    "#inserting a key 4 containg item 'Python'\n",
    "language[4]='Python'\n",
    "print(language)#printing the modified language(dict)"
   ]
  },
  {
   "cell_type": "code",
   "execution_count": 5,
   "metadata": {},
   "outputs": [
    {
     "name": "stdout",
     "output_type": "stream",
     "text": [
      "First : {1: 10, 2: 20, 3: 30}\n",
      "Second : {4: 40, 5: 50, 6: 60}\n",
      "Third : {7: 70, 8: 80, 9: 90}\n",
      "Concated Dictionary = {1: 10, 2: 20, 3: 30, 4: 40, 5: 50, 6: 60, 7: 70, 8: 80, 9: 90}\n"
     ]
    }
   ],
   "source": [
    "#e.Write a Python script to concatenate following dictionaries to create a new one.\n",
    "\n",
    "first={1:10,2:20,3:30}\n",
    "second={4:40,5:50,6:60}\n",
    "third={7:70,8:80,9:90}\n",
    "combo={}\n",
    "\n",
    "#printing the initial values of first second third\n",
    "print(\"First :\",first)\n",
    "print(\"Second :\",second)\n",
    "print(\"Third :\",third)\n",
    "\n",
    "#in each iteration of i , i is an item in first second and third respectivley \n",
    "for i in (first,second,third):\n",
    "        combo.update(i)\n",
    "print(\"Concated Dictionary =\",combo)"
   ]
  }
 ],
 "metadata": {
  "interpreter": {
   "hash": "c5189a2f8256a368b71fb4072ad2ff51ce14f9b6e197c42c4c078267aa9bd994"
  },
  "kernelspec": {
   "display_name": "Python 3.10.0 64-bit",
   "language": "python",
   "name": "python3"
  },
  "language_info": {
   "codemirror_mode": {
    "name": "ipython",
    "version": 3
   },
   "file_extension": ".py",
   "mimetype": "text/x-python",
   "name": "python",
   "nbconvert_exporter": "python",
   "pygments_lexer": "ipython3",
   "version": "3.10.0"
  },
  "orig_nbformat": 4
 },
 "nbformat": 4,
 "nbformat_minor": 2
}
